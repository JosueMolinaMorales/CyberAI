{
 "cells": [
  {
   "cell_type": "markdown",
   "metadata": {},
   "source": [
    "# COCS 670 - CyberAI - Assignment 2"
   ]
  },
  {
   "cell_type": "markdown",
   "metadata": {},
   "source": [
    "## Table of Contents\n",
    "1. Assignment 2 Problem Description\n",
    "2. Dataset Description: CICIoT2023 - IoT Attack Classification Dataset\n",
    "   - Overview\n",
    "   - Key Contributions\n",
    "   - Challenges in IoT Security Data Production\n",
    "   - Canadian Institute for Cybersecurity (CIC)\n",
    "   - Supporting IoT Security Research \n",
    "   - Data Categories\n",
    "   - Citation\n",
    "3. 3 Classification Algorithms\n",
    "4. Experiment: Comparing Classification Algorithms  "
   ]
  },
  {
   "cell_type": "markdown",
   "metadata": {},
   "source": [
    "## Assigment 2 Problem Description\n",
    "\n",
    "Choose a dataset that is well suited for classification. You can use any dataset related to cybersecurity that\n",
    "you would like to classify. A good number of datasets can be found in the UCI machine learning data\n",
    "repository (searching keywords such like cybersecurity, security, attack and defense, intrusion\n",
    "detection, etc.) but feel free to use any dataset that you want. Make sure that you select a dataset that has\n",
    "a class variable. Then use a tool such as python, R, Weka, or RapidMiner to classify the dataset. The\n",
    "specific requirements for the assignment are as follows:\n",
    "\n",
    "* Choose a dataset that is of interest to you and is well suited for classification\n",
    "* Describe the dataset\n",
    "* Research at least 3 different classification algorithms.\n",
    "* Give an explanation of the algorithms that you are using.\n",
    "* Design an experiment using training and testing (holdout method), cross-validation, or the\n",
    "bootstrap method. Use a statistical test to validate your partition of the data.\n",
    "* Compare the results of three or more classification methods using the same experimental setup\n",
    "using one or more classification evaluation methods discussed in class. The metrics that you\n",
    "choose are up to you and can include accuracy, error rate, sensitivity, specificity, precision, recall,\n",
    "and F measure.\n",
    "* Write a report that describes your experiment and results. The report should be in either ACM or\n",
    "IEEE conference paper format and should include an introduction section that details the dataset\n",
    "and the objectives of the analysis; a methodology section that explains the approach that you are\n",
    "using to mine the dataset including the steps used to preprocess the data, the classification\n",
    "algorithms and parameters, experimental setup (e.g. holdout, cross validation, bootstrapping),\n",
    "accuracy metrics (e.g. precision, recall, f-measure, etc...); a results section that shows the results\n",
    "of your analysis and any interesting patterns that you found; and a conclusion section that\n",
    "summarizes your results, discusses the limitations of your approach, and any difficulties that you\n",
    "had with your experiment."
   ]
  },
  {
   "cell_type": "markdown",
   "metadata": {},
   "source": [
    "## Dataset Description: CICIoT2023 - IoT Attack Classification Dataset\n",
    "\n",
    "### Overview\n",
    "\n",
    "CICIoT2023 is a real-time dataset designed to support research and development in the field of security analytics for Internet of Things (IoT) environments. The dataset comprises a wide range of IoT attack scenarios executed within a complex IoT topology consisting of 105 devices. These attacks are meticulously categorized into seven distinct classes, including Distributed Denial of Service (DDoS), Denial of Service (DoS), Reconnaissance (Recon), Web-based attacks, Brute Force attacks, Spoofing, and Mirai attacks. The primary goal of this dataset is to facilitate the development of machine learning and deep learning algorithms for the classification and detection of IoT network traffic as malicious or benign.\n",
    "\n",
    "### Key Contributions\n",
    "\n",
    "The creators of CICIoT2023 have made significant contributions to the field of IoT security:\n",
    "\n",
    "1. Realistic IoT Attack Dataset: CICIoT2023 introduces a novel and realistic IoT attack dataset. Unlike many previous datasets that rely on simulated or limited IoT device setups, this dataset leverages an extensive topology composed of actual IoT devices, mimicking real-world IoT applications.\n",
    "\n",
    "2. 33 Reproducible Attacks: The dataset includes 33 distinct attacks, carefully documented and collected as part of seven different classes. These attacks serve as valuable resources for understanding and reproducing IoT attack scenarios.\n",
    "\n",
    "3. Performance Evaluation: The dataset enables the evaluation of machine learning and deep learning algorithms for classifying and detecting IoT network traffic as malicious or benign. Researchers can assess the effectiveness of various techniques in identifying IoT attacks.\n",
    "\n",
    "### Challenges in IoT Security Data Production\n",
    "\n",
    "Producing high-quality IoT security data is a challenging endeavor, primarily due to the following factors:\n",
    "- Extensive Network Topology: Creating an IoT attack dataset that accurately reflects real-world scenarios requires an extensive network topology comprising multiple authentic IoT devices. Such setups involve substantial costs, specialized network equipment (e.g., switches, routers, network taps), and dedicated personnel for maintenance.\n",
    "\n",
    "### Canadian Institute for Cybersecurity (CIC)\n",
    "\n",
    "The Canadian Institute for Cybersecurity (CIC) is a prominent entity in the cybersecurity ecosystem, known for making substantial contributions to both industry and academia. CIC's achievements include the creation of datasets for developing new cybersecurity applications and establishing partnerships with industry stakeholders to enhance cybersecurity practices and develop innovative solutions.\n",
    "\n",
    "### Supporting IoT Security Research\n",
    "\n",
    "CIC's success has allowed the establishment of an IoT lab equipped with a dedicated network infrastructure to facilitate the development of IoT security solutions. By sharing the extensive dataset collected from this infrastructure, CIC aims to advance research in IoT security and support various initiatives addressing different aspects of IoT security.\n",
    "\n",
    "### Data Categories\n",
    "\n",
    "The dataset encompasses a wide range of IoT attacks categorized into seven classes:\n",
    "\n",
    "* DDoS Attacks: Various DDoS attack types, including ACK fragmentation, UDP flood, SlowLoris, ICMP flood, RSTFIN flood, PSHACK flood, HTTP flood, UDP fragmentation, TCP flood, SYN flood, and SynonymousIP flood.\n",
    "* Brute Force Attacks: Dictionary brute force attacks.\n",
    "* Spoofing Attacks: Arp spoofing and DNS spoofing.\n",
    "* DoS Attacks: Denial of Service attacks, including TCP flood, HTTP flood, SYN flood, and UDP flood.\n",
    "* Reconnaissance Attacks: Reconnaissance activities such as ping sweeps, OS scans, vulnerability scans, port scans, and host discovery.\n",
    "* Web-based Attacks: Web-based attack methods, including SQL injection, command injection, backdoor malware, uploading attacks, XSS (Cross-Site Scripting), and browser hijacking.\n",
    "* Mirai Attacks: Specific Mirai attacks, such as GREIP flood, Greeth flood, and UDPPlain.\n",
    "\n",
    "### Citation\n",
    "E. C. P. Neto, S. Dadkhah, R. Ferreira, A. Zohourian, R. Lu, A. A. Ghorbani. \"CICIoT2023: A real-time dataset and benchmark for large-scale attacks in IoT environment,\" Sensor (2023) – (submitted to Journal of Sensors).\n",
    "\n",
    "This dataset serves as a valuable resource for researchers and practitioners aiming to enhance the security of IoT environments and develop robust intrusion detection and prevention systems."
   ]
  },
  {
   "cell_type": "markdown",
   "metadata": {},
   "source": [
    "## 3 Classification Algorithms\n",
    "\n",
    "The three classification algorithms that I will be using are:\n",
    "1. K-Nearest Neighbors\n",
    "2. Random Forest\n",
    "3. Support Vector Machine"
   ]
  },
  {
   "cell_type": "markdown",
   "metadata": {},
   "source": [
    "## Experiment: Comparing Classification Algorithms\n",
    "\n",
    "In this experiment, we aim to assess and compare the performance of three different classification algorithms on a dataset. The objective is to determine which algorithm provides the best results for the given classification task.\n",
    "\n",
    "### Step 1: Data Preprocessing\n",
    "\n",
    "1. Load the dataset: The dataset is loaded into a Pandas DataFrame. It contains information about IoT attacks classified into seven categories, namely DDoS, DoS, Recon, Web-based, Brute Force, Spoofing, and Mirai.\n",
    "\n",
    "2. Split the dataset: The dataset is split into a training set and a test set. The training set will be used to train the classifiers, while the test set will be used for evaluation. A common split ratio is 70% training and 30% testing.\n",
    "\n",
    "### Step 2: Model Selection and Training\n",
    "\n",
    "For this experiment, three classification algorithms are chosen:\n",
    "\n",
    "#### Decision Tree Classifier\n",
    "\n",
    "3. Initialize the Decision Tree classifier.\n",
    "4. Train the classifier on the training data.\n",
    "\n",
    "#### K-Nearest Neighbors (KNN) Classifier\n",
    "\n",
    "5. Initialize the KNN classifier.\n",
    "6. Train the classifier on the training data.\n",
    "\n",
    "#### Support Vector Machine (SVM) Classifier\n",
    "\n",
    "7. Initialize the SVM classifier.\n",
    "8. Train the classifier on the training data.\n",
    "\n",
    "### Step 3: Model Evaluation\n",
    "\n",
    "9. Use the trained classifiers to make predictions on the test data.\n",
    "10. Evaluate the performance of each classifier using various metrics, including accuracy, precision, recall, F1-score, and the confusion matrix.\n",
    "\n",
    "### Step 4: Results and Comparison\n",
    "\n",
    "11. Compare the results of the three classifiers, considering their accuracy and other relevant metrics. Present the results in tables or visualizations.\n",
    "12. Draw conclusions about which classifier performs best on the dataset based on the evaluation metrics.\n",
    "\n",
    "Note: Hyperparameter tuning and cross-validation may be applied to optimize classifier performance.\n",
    "\n",
    "By following this experiment, we aim to make an informed decision about the most suitable classification algorithm for the given dataset and classification task."
   ]
  },
  {
   "cell_type": "markdown",
   "metadata": {},
   "source": [
    "## Experiment"
   ]
  },
  {
   "cell_type": "markdown",
   "metadata": {},
   "source": [
    "### Data Preprocessing"
   ]
  },
  {
   "cell_type": "markdown",
   "metadata": {},
   "source": [
    "Import the required libraries."
   ]
  },
  {
   "cell_type": "code",
   "execution_count": 1,
   "metadata": {},
   "outputs": [],
   "source": [
    "# Import Pandas, Numpy\n",
    "import pandas as pd\n",
    "import numpy as np"
   ]
  },
  {
   "cell_type": "markdown",
   "metadata": {},
   "source": [
    "Read in the a portion of the dataset.\n",
    "**NOTE** Using only a portion of the dataset due to time and memory constraints."
   ]
  },
  {
   "cell_type": "code",
   "execution_count": 2,
   "metadata": {},
   "outputs": [],
   "source": [
    "dataset = pd.read_csv(\"./datasets/part-00000-363d1ba3-8ab5-4f96-bc25-4d5862db7cb9-c000.csv\")"
   ]
  },
  {
   "cell_type": "markdown",
   "metadata": {},
   "source": [
    "View the structure of the dataframe.\n",
    "The label column is the target variable."
   ]
  },
  {
   "cell_type": "code",
   "execution_count": 3,
   "metadata": {},
   "outputs": [
    {
     "data": {
      "text/html": [
       "<div>\n",
       "<style scoped>\n",
       "    .dataframe tbody tr th:only-of-type {\n",
       "        vertical-align: middle;\n",
       "    }\n",
       "\n",
       "    .dataframe tbody tr th {\n",
       "        vertical-align: top;\n",
       "    }\n",
       "\n",
       "    .dataframe thead th {\n",
       "        text-align: right;\n",
       "    }\n",
       "</style>\n",
       "<table border=\"1\" class=\"dataframe\">\n",
       "  <thead>\n",
       "    <tr style=\"text-align: right;\">\n",
       "      <th></th>\n",
       "      <th>flow_duration</th>\n",
       "      <th>Header_Length</th>\n",
       "      <th>Protocol Type</th>\n",
       "      <th>Duration</th>\n",
       "      <th>Rate</th>\n",
       "      <th>Srate</th>\n",
       "      <th>Drate</th>\n",
       "      <th>fin_flag_number</th>\n",
       "      <th>syn_flag_number</th>\n",
       "      <th>rst_flag_number</th>\n",
       "      <th>...</th>\n",
       "      <th>Std</th>\n",
       "      <th>Tot size</th>\n",
       "      <th>IAT</th>\n",
       "      <th>Number</th>\n",
       "      <th>Magnitue</th>\n",
       "      <th>Radius</th>\n",
       "      <th>Covariance</th>\n",
       "      <th>Variance</th>\n",
       "      <th>Weight</th>\n",
       "      <th>label</th>\n",
       "    </tr>\n",
       "  </thead>\n",
       "  <tbody>\n",
       "    <tr>\n",
       "      <th>0</th>\n",
       "      <td>0.000000</td>\n",
       "      <td>54.00</td>\n",
       "      <td>6.00</td>\n",
       "      <td>64.00</td>\n",
       "      <td>0.329807</td>\n",
       "      <td>0.329807</td>\n",
       "      <td>0.0</td>\n",
       "      <td>1.0</td>\n",
       "      <td>0.0</td>\n",
       "      <td>1.0</td>\n",
       "      <td>...</td>\n",
       "      <td>0.000000</td>\n",
       "      <td>54.00</td>\n",
       "      <td>8.334383e+07</td>\n",
       "      <td>9.5</td>\n",
       "      <td>10.392305</td>\n",
       "      <td>0.000000</td>\n",
       "      <td>0.000000</td>\n",
       "      <td>0.00</td>\n",
       "      <td>141.55</td>\n",
       "      <td>DDoS-RSTFINFlood</td>\n",
       "    </tr>\n",
       "    <tr>\n",
       "      <th>1</th>\n",
       "      <td>0.000000</td>\n",
       "      <td>57.04</td>\n",
       "      <td>6.33</td>\n",
       "      <td>64.00</td>\n",
       "      <td>4.290556</td>\n",
       "      <td>4.290556</td>\n",
       "      <td>0.0</td>\n",
       "      <td>0.0</td>\n",
       "      <td>0.0</td>\n",
       "      <td>0.0</td>\n",
       "      <td>...</td>\n",
       "      <td>2.822973</td>\n",
       "      <td>57.04</td>\n",
       "      <td>8.292607e+07</td>\n",
       "      <td>9.5</td>\n",
       "      <td>10.464666</td>\n",
       "      <td>4.010353</td>\n",
       "      <td>160.987842</td>\n",
       "      <td>0.05</td>\n",
       "      <td>141.55</td>\n",
       "      <td>DoS-TCP_Flood</td>\n",
       "    </tr>\n",
       "    <tr>\n",
       "      <th>2</th>\n",
       "      <td>0.000000</td>\n",
       "      <td>0.00</td>\n",
       "      <td>1.00</td>\n",
       "      <td>64.00</td>\n",
       "      <td>33.396799</td>\n",
       "      <td>33.396799</td>\n",
       "      <td>0.0</td>\n",
       "      <td>0.0</td>\n",
       "      <td>0.0</td>\n",
       "      <td>0.0</td>\n",
       "      <td>...</td>\n",
       "      <td>0.000000</td>\n",
       "      <td>42.00</td>\n",
       "      <td>8.312799e+07</td>\n",
       "      <td>9.5</td>\n",
       "      <td>9.165151</td>\n",
       "      <td>0.000000</td>\n",
       "      <td>0.000000</td>\n",
       "      <td>0.00</td>\n",
       "      <td>141.55</td>\n",
       "      <td>DDoS-ICMP_Flood</td>\n",
       "    </tr>\n",
       "    <tr>\n",
       "      <th>3</th>\n",
       "      <td>0.328175</td>\n",
       "      <td>76175.00</td>\n",
       "      <td>17.00</td>\n",
       "      <td>64.00</td>\n",
       "      <td>4642.133010</td>\n",
       "      <td>4642.133010</td>\n",
       "      <td>0.0</td>\n",
       "      <td>0.0</td>\n",
       "      <td>0.0</td>\n",
       "      <td>0.0</td>\n",
       "      <td>...</td>\n",
       "      <td>0.000000</td>\n",
       "      <td>50.00</td>\n",
       "      <td>8.301570e+07</td>\n",
       "      <td>9.5</td>\n",
       "      <td>10.000000</td>\n",
       "      <td>0.000000</td>\n",
       "      <td>0.000000</td>\n",
       "      <td>0.00</td>\n",
       "      <td>141.55</td>\n",
       "      <td>DoS-UDP_Flood</td>\n",
       "    </tr>\n",
       "    <tr>\n",
       "      <th>4</th>\n",
       "      <td>0.117320</td>\n",
       "      <td>101.73</td>\n",
       "      <td>6.11</td>\n",
       "      <td>65.91</td>\n",
       "      <td>6.202211</td>\n",
       "      <td>6.202211</td>\n",
       "      <td>0.0</td>\n",
       "      <td>0.0</td>\n",
       "      <td>1.0</td>\n",
       "      <td>0.0</td>\n",
       "      <td>...</td>\n",
       "      <td>23.113111</td>\n",
       "      <td>57.88</td>\n",
       "      <td>8.297300e+07</td>\n",
       "      <td>9.5</td>\n",
       "      <td>11.346876</td>\n",
       "      <td>32.716243</td>\n",
       "      <td>3016.808286</td>\n",
       "      <td>0.19</td>\n",
       "      <td>141.55</td>\n",
       "      <td>DoS-SYN_Flood</td>\n",
       "    </tr>\n",
       "    <tr>\n",
       "      <th>...</th>\n",
       "      <td>...</td>\n",
       "      <td>...</td>\n",
       "      <td>...</td>\n",
       "      <td>...</td>\n",
       "      <td>...</td>\n",
       "      <td>...</td>\n",
       "      <td>...</td>\n",
       "      <td>...</td>\n",
       "      <td>...</td>\n",
       "      <td>...</td>\n",
       "      <td>...</td>\n",
       "      <td>...</td>\n",
       "      <td>...</td>\n",
       "      <td>...</td>\n",
       "      <td>...</td>\n",
       "      <td>...</td>\n",
       "      <td>...</td>\n",
       "      <td>...</td>\n",
       "      <td>...</td>\n",
       "      <td>...</td>\n",
       "      <td>...</td>\n",
       "    </tr>\n",
       "    <tr>\n",
       "      <th>238682</th>\n",
       "      <td>0.000000</td>\n",
       "      <td>54.00</td>\n",
       "      <td>6.00</td>\n",
       "      <td>64.00</td>\n",
       "      <td>3.049186</td>\n",
       "      <td>3.049186</td>\n",
       "      <td>0.0</td>\n",
       "      <td>1.0</td>\n",
       "      <td>0.0</td>\n",
       "      <td>1.0</td>\n",
       "      <td>...</td>\n",
       "      <td>0.000000</td>\n",
       "      <td>54.00</td>\n",
       "      <td>8.334449e+07</td>\n",
       "      <td>9.5</td>\n",
       "      <td>10.392305</td>\n",
       "      <td>0.000000</td>\n",
       "      <td>0.000000</td>\n",
       "      <td>0.00</td>\n",
       "      <td>141.55</td>\n",
       "      <td>DDoS-RSTFINFlood</td>\n",
       "    </tr>\n",
       "    <tr>\n",
       "      <th>238683</th>\n",
       "      <td>0.000000</td>\n",
       "      <td>54.00</td>\n",
       "      <td>6.00</td>\n",
       "      <td>64.00</td>\n",
       "      <td>183.433732</td>\n",
       "      <td>183.433732</td>\n",
       "      <td>0.0</td>\n",
       "      <td>0.0</td>\n",
       "      <td>0.0</td>\n",
       "      <td>0.0</td>\n",
       "      <td>...</td>\n",
       "      <td>0.000000</td>\n",
       "      <td>54.00</td>\n",
       "      <td>8.331392e+07</td>\n",
       "      <td>9.5</td>\n",
       "      <td>10.392305</td>\n",
       "      <td>0.000000</td>\n",
       "      <td>0.000000</td>\n",
       "      <td>0.00</td>\n",
       "      <td>141.55</td>\n",
       "      <td>DDoS-PSHACK_Flood</td>\n",
       "    </tr>\n",
       "    <tr>\n",
       "      <th>238684</th>\n",
       "      <td>0.000785</td>\n",
       "      <td>56.29</td>\n",
       "      <td>6.11</td>\n",
       "      <td>64.00</td>\n",
       "      <td>306.952216</td>\n",
       "      <td>306.952216</td>\n",
       "      <td>0.0</td>\n",
       "      <td>0.0</td>\n",
       "      <td>1.0</td>\n",
       "      <td>0.0</td>\n",
       "      <td>...</td>\n",
       "      <td>0.140764</td>\n",
       "      <td>54.21</td>\n",
       "      <td>8.308883e+07</td>\n",
       "      <td>9.5</td>\n",
       "      <td>10.395538</td>\n",
       "      <td>0.200659</td>\n",
       "      <td>0.671167</td>\n",
       "      <td>0.03</td>\n",
       "      <td>141.55</td>\n",
       "      <td>DDoS-SYN_Flood</td>\n",
       "    </tr>\n",
       "    <tr>\n",
       "      <th>238685</th>\n",
       "      <td>0.000901</td>\n",
       "      <td>72.09</td>\n",
       "      <td>6.11</td>\n",
       "      <td>64.64</td>\n",
       "      <td>158.475986</td>\n",
       "      <td>158.475986</td>\n",
       "      <td>0.0</td>\n",
       "      <td>0.0</td>\n",
       "      <td>0.0</td>\n",
       "      <td>0.0</td>\n",
       "      <td>...</td>\n",
       "      <td>2.450404</td>\n",
       "      <td>55.48</td>\n",
       "      <td>8.333177e+07</td>\n",
       "      <td>9.5</td>\n",
       "      <td>10.456522</td>\n",
       "      <td>3.475801</td>\n",
       "      <td>55.994224</td>\n",
       "      <td>0.17</td>\n",
       "      <td>141.55</td>\n",
       "      <td>DDoS-PSHACK_Flood</td>\n",
       "    </tr>\n",
       "    <tr>\n",
       "      <th>238686</th>\n",
       "      <td>0.000000</td>\n",
       "      <td>0.00</td>\n",
       "      <td>1.00</td>\n",
       "      <td>64.00</td>\n",
       "      <td>1.291274</td>\n",
       "      <td>1.291274</td>\n",
       "      <td>0.0</td>\n",
       "      <td>0.0</td>\n",
       "      <td>0.0</td>\n",
       "      <td>0.0</td>\n",
       "      <td>...</td>\n",
       "      <td>0.000000</td>\n",
       "      <td>42.00</td>\n",
       "      <td>8.312453e+07</td>\n",
       "      <td>9.5</td>\n",
       "      <td>9.165151</td>\n",
       "      <td>0.000000</td>\n",
       "      <td>0.000000</td>\n",
       "      <td>0.00</td>\n",
       "      <td>141.55</td>\n",
       "      <td>DDoS-ICMP_Flood</td>\n",
       "    </tr>\n",
       "  </tbody>\n",
       "</table>\n",
       "<p>238687 rows × 47 columns</p>\n",
       "</div>"
      ],
      "text/plain": [
       "        flow_duration  Header_Length  Protocol Type  Duration         Rate  \\\n",
       "0            0.000000          54.00           6.00     64.00     0.329807   \n",
       "1            0.000000          57.04           6.33     64.00     4.290556   \n",
       "2            0.000000           0.00           1.00     64.00    33.396799   \n",
       "3            0.328175       76175.00          17.00     64.00  4642.133010   \n",
       "4            0.117320         101.73           6.11     65.91     6.202211   \n",
       "...               ...            ...            ...       ...          ...   \n",
       "238682       0.000000          54.00           6.00     64.00     3.049186   \n",
       "238683       0.000000          54.00           6.00     64.00   183.433732   \n",
       "238684       0.000785          56.29           6.11     64.00   306.952216   \n",
       "238685       0.000901          72.09           6.11     64.64   158.475986   \n",
       "238686       0.000000           0.00           1.00     64.00     1.291274   \n",
       "\n",
       "              Srate  Drate  fin_flag_number  syn_flag_number  rst_flag_number  \\\n",
       "0          0.329807    0.0              1.0              0.0              1.0   \n",
       "1          4.290556    0.0              0.0              0.0              0.0   \n",
       "2         33.396799    0.0              0.0              0.0              0.0   \n",
       "3       4642.133010    0.0              0.0              0.0              0.0   \n",
       "4          6.202211    0.0              0.0              1.0              0.0   \n",
       "...             ...    ...              ...              ...              ...   \n",
       "238682     3.049186    0.0              1.0              0.0              1.0   \n",
       "238683   183.433732    0.0              0.0              0.0              0.0   \n",
       "238684   306.952216    0.0              0.0              1.0              0.0   \n",
       "238685   158.475986    0.0              0.0              0.0              0.0   \n",
       "238686     1.291274    0.0              0.0              0.0              0.0   \n",
       "\n",
       "        ...        Std  Tot size           IAT  Number   Magnitue     Radius  \\\n",
       "0       ...   0.000000     54.00  8.334383e+07     9.5  10.392305   0.000000   \n",
       "1       ...   2.822973     57.04  8.292607e+07     9.5  10.464666   4.010353   \n",
       "2       ...   0.000000     42.00  8.312799e+07     9.5   9.165151   0.000000   \n",
       "3       ...   0.000000     50.00  8.301570e+07     9.5  10.000000   0.000000   \n",
       "4       ...  23.113111     57.88  8.297300e+07     9.5  11.346876  32.716243   \n",
       "...     ...        ...       ...           ...     ...        ...        ...   \n",
       "238682  ...   0.000000     54.00  8.334449e+07     9.5  10.392305   0.000000   \n",
       "238683  ...   0.000000     54.00  8.331392e+07     9.5  10.392305   0.000000   \n",
       "238684  ...   0.140764     54.21  8.308883e+07     9.5  10.395538   0.200659   \n",
       "238685  ...   2.450404     55.48  8.333177e+07     9.5  10.456522   3.475801   \n",
       "238686  ...   0.000000     42.00  8.312453e+07     9.5   9.165151   0.000000   \n",
       "\n",
       "         Covariance  Variance  Weight              label  \n",
       "0          0.000000      0.00  141.55   DDoS-RSTFINFlood  \n",
       "1        160.987842      0.05  141.55      DoS-TCP_Flood  \n",
       "2          0.000000      0.00  141.55    DDoS-ICMP_Flood  \n",
       "3          0.000000      0.00  141.55      DoS-UDP_Flood  \n",
       "4       3016.808286      0.19  141.55      DoS-SYN_Flood  \n",
       "...             ...       ...     ...                ...  \n",
       "238682     0.000000      0.00  141.55   DDoS-RSTFINFlood  \n",
       "238683     0.000000      0.00  141.55  DDoS-PSHACK_Flood  \n",
       "238684     0.671167      0.03  141.55     DDoS-SYN_Flood  \n",
       "238685    55.994224      0.17  141.55  DDoS-PSHACK_Flood  \n",
       "238686     0.000000      0.00  141.55    DDoS-ICMP_Flood  \n",
       "\n",
       "[238687 rows x 47 columns]"
      ]
     },
     "execution_count": 3,
     "metadata": {},
     "output_type": "execute_result"
    }
   ],
   "source": [
    "dataset"
   ]
  },
  {
   "cell_type": "markdown",
   "metadata": {},
   "source": [
    "Use the holdout method to split the dataset into training and testing sets."
   ]
  },
  {
   "cell_type": "code",
   "execution_count": 4,
   "metadata": {},
   "outputs": [],
   "source": [
    "# Split the data into training and testing sets\n",
    "train = dataset.sample(frac=0.7,random_state=0) # random state is a seed value, so that the same sample is selected each time\n",
    "test = dataset.drop(train.index) # drop the rows that are in the training set, so that the test set is disjoint"
   ]
  },
  {
   "cell_type": "markdown",
   "metadata": {},
   "source": [
    "Get the observations and labels for the training set."
   ]
  },
  {
   "cell_type": "code",
   "execution_count": 5,
   "metadata": {},
   "outputs": [],
   "source": [
    "# Get the list of observations and classes\n",
    "obs = list(dataset.columns)\n",
    "# Remove the 'label' column\n",
    "obs.remove('label')\n",
    "\n",
    "# Set the target variable\n",
    "target = ['label']"
   ]
  },
  {
   "cell_type": "markdown",
   "metadata": {},
   "source": [
    "Separate the observations from the class/target variable in both the training and testing sets.\n",
    "\n",
    "Use of ravel() here converts the 2D array to a 1D array."
   ]
  },
  {
   "cell_type": "code",
   "execution_count": 6,
   "metadata": {},
   "outputs": [],
   "source": [
    "trainObs = train[obs].to_numpy()                # TrainObs: The features for the training data as an array\n",
    "trainCls = train[target].to_numpy().ravel()     # TrainCls: The labels for the training data as an array\n",
    "testObs = test[obs].to_numpy()                # TestObs: The features for the test data as an array\n",
    "testCls = test[target].to_numpy().ravel()        # TestCls: The labels for the test data as an array"
   ]
  },
  {
   "cell_type": "markdown",
   "metadata": {},
   "source": [
    "We are going to scale our features using the StandardScaler from sklearn.preprocessing.\n",
    "\n",
    "This will transform the data so that all values will be between 0 and 1."
   ]
  },
  {
   "cell_type": "code",
   "execution_count": 7,
   "metadata": {},
   "outputs": [],
   "source": [
    "# Rescale the data to be between 0 and 1\n",
    "from sklearn.preprocessing import MinMaxScaler\n",
    "scaler = MinMaxScaler()\n",
    "scaler.fit(trainObs)\n",
    "trainObs = scaler.transform(trainObs)\n",
    "testObs = scaler.transform(testObs)"
   ]
  },
  {
   "cell_type": "markdown",
   "metadata": {},
   "source": [
    "### Model Selection and Training"
   ]
  },
  {
   "cell_type": "markdown",
   "metadata": {},
   "source": [
    "#### Decision Tree Classifier\n",
    "We will start by creating a decision tree classifier and training it on the training set."
   ]
  },
  {
   "cell_type": "code",
   "execution_count": 8,
   "metadata": {},
   "outputs": [],
   "source": [
    "from sklearn import tree\n",
    "dtc = tree.DecisionTreeClassifier()\n",
    "dtc = dtc.fit(trainObs, trainCls)"
   ]
  },
  {
   "cell_type": "markdown",
   "metadata": {},
   "source": [
    "#### K-Nearest Neighbors (KNN) Classifier\n",
    "Next, we will create a KNN classifier and train it on the training set.\n",
    "\n",
    "We will start by finding the optimal value of K for the KNN classifier using Cross-Validation"
   ]
  },
  {
   "cell_type": "code",
   "execution_count": 9,
   "metadata": {},
   "outputs": [
    {
     "name": "stdout",
     "output_type": "stream",
     "text": [
      "Best k value:  9\n"
     ]
    }
   ],
   "source": [
    "from sklearn.model_selection import GridSearchCV\n",
    "from sklearn.neighbors import KNeighborsClassifier\n",
    "\n",
    "# Define a range of k values to search\n",
    "param_grid = {'n_neighbors': [1, 3, 5, 7, 9]}\n",
    "\n",
    "# Create a KNN classifier\n",
    "knn = KNeighborsClassifier(weights='distance')\n",
    "\n",
    "# Perform grid search with cross-validation\n",
    "grid_search = GridSearchCV(knn, param_grid, cv=4)\n",
    "grid_search.fit(trainObs, trainCls)\n",
    "\n",
    "# Get the best k value\n",
    "best_k = grid_search.best_params_['n_neighbors']\n",
    "print('Best k value: ', best_k)"
   ]
  },
  {
   "cell_type": "markdown",
   "metadata": {},
   "source": [
    "Using the optimal value of K, we will create a KNN classifier and train it on the training set."
   ]
  },
  {
   "cell_type": "code",
   "execution_count": 10,
   "metadata": {},
   "outputs": [
    {
     "data": {
      "text/html": [
       "<style>#sk-container-id-1 {color: black;}#sk-container-id-1 pre{padding: 0;}#sk-container-id-1 div.sk-toggleable {background-color: white;}#sk-container-id-1 label.sk-toggleable__label {cursor: pointer;display: block;width: 100%;margin-bottom: 0;padding: 0.3em;box-sizing: border-box;text-align: center;}#sk-container-id-1 label.sk-toggleable__label-arrow:before {content: \"▸\";float: left;margin-right: 0.25em;color: #696969;}#sk-container-id-1 label.sk-toggleable__label-arrow:hover:before {color: black;}#sk-container-id-1 div.sk-estimator:hover label.sk-toggleable__label-arrow:before {color: black;}#sk-container-id-1 div.sk-toggleable__content {max-height: 0;max-width: 0;overflow: hidden;text-align: left;background-color: #f0f8ff;}#sk-container-id-1 div.sk-toggleable__content pre {margin: 0.2em;color: black;border-radius: 0.25em;background-color: #f0f8ff;}#sk-container-id-1 input.sk-toggleable__control:checked~div.sk-toggleable__content {max-height: 200px;max-width: 100%;overflow: auto;}#sk-container-id-1 input.sk-toggleable__control:checked~label.sk-toggleable__label-arrow:before {content: \"▾\";}#sk-container-id-1 div.sk-estimator input.sk-toggleable__control:checked~label.sk-toggleable__label {background-color: #d4ebff;}#sk-container-id-1 div.sk-label input.sk-toggleable__control:checked~label.sk-toggleable__label {background-color: #d4ebff;}#sk-container-id-1 input.sk-hidden--visually {border: 0;clip: rect(1px 1px 1px 1px);clip: rect(1px, 1px, 1px, 1px);height: 1px;margin: -1px;overflow: hidden;padding: 0;position: absolute;width: 1px;}#sk-container-id-1 div.sk-estimator {font-family: monospace;background-color: #f0f8ff;border: 1px dotted black;border-radius: 0.25em;box-sizing: border-box;margin-bottom: 0.5em;}#sk-container-id-1 div.sk-estimator:hover {background-color: #d4ebff;}#sk-container-id-1 div.sk-parallel-item::after {content: \"\";width: 100%;border-bottom: 1px solid gray;flex-grow: 1;}#sk-container-id-1 div.sk-label:hover label.sk-toggleable__label {background-color: #d4ebff;}#sk-container-id-1 div.sk-serial::before {content: \"\";position: absolute;border-left: 1px solid gray;box-sizing: border-box;top: 0;bottom: 0;left: 50%;z-index: 0;}#sk-container-id-1 div.sk-serial {display: flex;flex-direction: column;align-items: center;background-color: white;padding-right: 0.2em;padding-left: 0.2em;position: relative;}#sk-container-id-1 div.sk-item {position: relative;z-index: 1;}#sk-container-id-1 div.sk-parallel {display: flex;align-items: stretch;justify-content: center;background-color: white;position: relative;}#sk-container-id-1 div.sk-item::before, #sk-container-id-1 div.sk-parallel-item::before {content: \"\";position: absolute;border-left: 1px solid gray;box-sizing: border-box;top: 0;bottom: 0;left: 50%;z-index: -1;}#sk-container-id-1 div.sk-parallel-item {display: flex;flex-direction: column;z-index: 1;position: relative;background-color: white;}#sk-container-id-1 div.sk-parallel-item:first-child::after {align-self: flex-end;width: 50%;}#sk-container-id-1 div.sk-parallel-item:last-child::after {align-self: flex-start;width: 50%;}#sk-container-id-1 div.sk-parallel-item:only-child::after {width: 0;}#sk-container-id-1 div.sk-dashed-wrapped {border: 1px dashed gray;margin: 0 0.4em 0.5em 0.4em;box-sizing: border-box;padding-bottom: 0.4em;background-color: white;}#sk-container-id-1 div.sk-label label {font-family: monospace;font-weight: bold;display: inline-block;line-height: 1.2em;}#sk-container-id-1 div.sk-label-container {text-align: center;}#sk-container-id-1 div.sk-container {/* jupyter's `normalize.less` sets `[hidden] { display: none; }` but bootstrap.min.css set `[hidden] { display: none !important; }` so we also need the `!important` here to be able to override the default hidden behavior on the sphinx rendered scikit-learn.org. See: https://github.com/scikit-learn/scikit-learn/issues/21755 */display: inline-block !important;position: relative;}#sk-container-id-1 div.sk-text-repr-fallback {display: none;}</style><div id=\"sk-container-id-1\" class=\"sk-top-container\"><div class=\"sk-text-repr-fallback\"><pre>KNeighborsClassifier(n_neighbors=9, weights=&#x27;distance&#x27;)</pre><b>In a Jupyter environment, please rerun this cell to show the HTML representation or trust the notebook. <br />On GitHub, the HTML representation is unable to render, please try loading this page with nbviewer.org.</b></div><div class=\"sk-container\" hidden><div class=\"sk-item\"><div class=\"sk-estimator sk-toggleable\"><input class=\"sk-toggleable__control sk-hidden--visually\" id=\"sk-estimator-id-1\" type=\"checkbox\" checked><label for=\"sk-estimator-id-1\" class=\"sk-toggleable__label sk-toggleable__label-arrow\">KNeighborsClassifier</label><div class=\"sk-toggleable__content\"><pre>KNeighborsClassifier(n_neighbors=9, weights=&#x27;distance&#x27;)</pre></div></div></div></div></div>"
      ],
      "text/plain": [
       "KNeighborsClassifier(n_neighbors=9, weights='distance')"
      ]
     },
     "execution_count": 10,
     "metadata": {},
     "output_type": "execute_result"
    }
   ],
   "source": [
    "# Create a KNN classifier with the best k value\n",
    "knn = KNeighborsClassifier(n_neighbors=best_k, weights='distance')\n",
    "# Train the classifier\n",
    "knn.fit(trainObs, trainCls)"
   ]
  },
  {
   "cell_type": "markdown",
   "metadata": {},
   "source": [
    "#### Support Vector Machine (SVM) Classifier\n",
    "Next, we will create a SVM classifier and train it on the training set.\n",
    "\n",
    "**NOTE** This step takes about 5 minutes to run."
   ]
  },
  {
   "cell_type": "code",
   "execution_count": 11,
   "metadata": {},
   "outputs": [
    {
     "data": {
      "text/html": [
       "<style>#sk-container-id-2 {color: black;}#sk-container-id-2 pre{padding: 0;}#sk-container-id-2 div.sk-toggleable {background-color: white;}#sk-container-id-2 label.sk-toggleable__label {cursor: pointer;display: block;width: 100%;margin-bottom: 0;padding: 0.3em;box-sizing: border-box;text-align: center;}#sk-container-id-2 label.sk-toggleable__label-arrow:before {content: \"▸\";float: left;margin-right: 0.25em;color: #696969;}#sk-container-id-2 label.sk-toggleable__label-arrow:hover:before {color: black;}#sk-container-id-2 div.sk-estimator:hover label.sk-toggleable__label-arrow:before {color: black;}#sk-container-id-2 div.sk-toggleable__content {max-height: 0;max-width: 0;overflow: hidden;text-align: left;background-color: #f0f8ff;}#sk-container-id-2 div.sk-toggleable__content pre {margin: 0.2em;color: black;border-radius: 0.25em;background-color: #f0f8ff;}#sk-container-id-2 input.sk-toggleable__control:checked~div.sk-toggleable__content {max-height: 200px;max-width: 100%;overflow: auto;}#sk-container-id-2 input.sk-toggleable__control:checked~label.sk-toggleable__label-arrow:before {content: \"▾\";}#sk-container-id-2 div.sk-estimator input.sk-toggleable__control:checked~label.sk-toggleable__label {background-color: #d4ebff;}#sk-container-id-2 div.sk-label input.sk-toggleable__control:checked~label.sk-toggleable__label {background-color: #d4ebff;}#sk-container-id-2 input.sk-hidden--visually {border: 0;clip: rect(1px 1px 1px 1px);clip: rect(1px, 1px, 1px, 1px);height: 1px;margin: -1px;overflow: hidden;padding: 0;position: absolute;width: 1px;}#sk-container-id-2 div.sk-estimator {font-family: monospace;background-color: #f0f8ff;border: 1px dotted black;border-radius: 0.25em;box-sizing: border-box;margin-bottom: 0.5em;}#sk-container-id-2 div.sk-estimator:hover {background-color: #d4ebff;}#sk-container-id-2 div.sk-parallel-item::after {content: \"\";width: 100%;border-bottom: 1px solid gray;flex-grow: 1;}#sk-container-id-2 div.sk-label:hover label.sk-toggleable__label {background-color: #d4ebff;}#sk-container-id-2 div.sk-serial::before {content: \"\";position: absolute;border-left: 1px solid gray;box-sizing: border-box;top: 0;bottom: 0;left: 50%;z-index: 0;}#sk-container-id-2 div.sk-serial {display: flex;flex-direction: column;align-items: center;background-color: white;padding-right: 0.2em;padding-left: 0.2em;position: relative;}#sk-container-id-2 div.sk-item {position: relative;z-index: 1;}#sk-container-id-2 div.sk-parallel {display: flex;align-items: stretch;justify-content: center;background-color: white;position: relative;}#sk-container-id-2 div.sk-item::before, #sk-container-id-2 div.sk-parallel-item::before {content: \"\";position: absolute;border-left: 1px solid gray;box-sizing: border-box;top: 0;bottom: 0;left: 50%;z-index: -1;}#sk-container-id-2 div.sk-parallel-item {display: flex;flex-direction: column;z-index: 1;position: relative;background-color: white;}#sk-container-id-2 div.sk-parallel-item:first-child::after {align-self: flex-end;width: 50%;}#sk-container-id-2 div.sk-parallel-item:last-child::after {align-self: flex-start;width: 50%;}#sk-container-id-2 div.sk-parallel-item:only-child::after {width: 0;}#sk-container-id-2 div.sk-dashed-wrapped {border: 1px dashed gray;margin: 0 0.4em 0.5em 0.4em;box-sizing: border-box;padding-bottom: 0.4em;background-color: white;}#sk-container-id-2 div.sk-label label {font-family: monospace;font-weight: bold;display: inline-block;line-height: 1.2em;}#sk-container-id-2 div.sk-label-container {text-align: center;}#sk-container-id-2 div.sk-container {/* jupyter's `normalize.less` sets `[hidden] { display: none; }` but bootstrap.min.css set `[hidden] { display: none !important; }` so we also need the `!important` here to be able to override the default hidden behavior on the sphinx rendered scikit-learn.org. See: https://github.com/scikit-learn/scikit-learn/issues/21755 */display: inline-block !important;position: relative;}#sk-container-id-2 div.sk-text-repr-fallback {display: none;}</style><div id=\"sk-container-id-2\" class=\"sk-top-container\"><div class=\"sk-text-repr-fallback\"><pre>SVC()</pre><b>In a Jupyter environment, please rerun this cell to show the HTML representation or trust the notebook. <br />On GitHub, the HTML representation is unable to render, please try loading this page with nbviewer.org.</b></div><div class=\"sk-container\" hidden><div class=\"sk-item\"><div class=\"sk-estimator sk-toggleable\"><input class=\"sk-toggleable__control sk-hidden--visually\" id=\"sk-estimator-id-2\" type=\"checkbox\" checked><label for=\"sk-estimator-id-2\" class=\"sk-toggleable__label sk-toggleable__label-arrow\">SVC</label><div class=\"sk-toggleable__content\"><pre>SVC()</pre></div></div></div></div></div>"
      ],
      "text/plain": [
       "SVC()"
      ]
     },
     "execution_count": 11,
     "metadata": {},
     "output_type": "execute_result"
    }
   ],
   "source": [
    "from sklearn import svm\n",
    "svm_clf = svm.SVC(kernel=\"rbf\")\n",
    "svm_clf.fit(trainObs, trainCls)"
   ]
  },
  {
   "cell_type": "markdown",
   "metadata": {},
   "source": [
    "### Model Evaluation\n",
    "We will now evaluate the performance of each classifier using various metrics, including accuracy, precision, recall, F1-score, and the confusion matrix."
   ]
  },
  {
   "cell_type": "markdown",
   "metadata": {},
   "source": [
    "#### Decision Tree Classifier"
   ]
  },
  {
   "cell_type": "code",
   "execution_count": 12,
   "metadata": {},
   "outputs": [
    {
     "name": "stdout",
     "output_type": "stream",
     "text": [
      "Decision Tree Accuracy:  0.9917465016898025\n",
      "Decision Tree Report: \n",
      "                          precision    recall  f1-score   support\n",
      "\n",
      "       Backdoor_Malware       0.60      0.38      0.46         8\n",
      "          BenignTraffic       0.91      0.90      0.90      1680\n",
      "       BrowserHijacking       0.58      0.50      0.54        14\n",
      "       CommandInjection       0.29      0.25      0.27         8\n",
      " DDoS-ACK_Fragmentation       0.99      1.00      0.99       449\n",
      "        DDoS-HTTP_Flood       1.00      0.98      0.99        58\n",
      "        DDoS-ICMP_Flood       1.00      1.00      1.00     10856\n",
      "DDoS-ICMP_Fragmentation       1.00      0.99      1.00       723\n",
      "      DDoS-PSHACK_Flood       1.00      1.00      1.00      6401\n",
      "       DDoS-RSTFINFlood       1.00      1.00      1.00      6190\n",
      "         DDoS-SYN_Flood       1.00      1.00      1.00      6294\n",
      "         DDoS-SlowLoris       1.00      1.00      1.00        30\n",
      "DDoS-SynonymousIP_Flood       1.00      1.00      1.00      5453\n",
      "         DDoS-TCP_Flood       1.00      1.00      1.00      6955\n",
      "         DDoS-UDP_Flood       1.00      1.00      1.00      8231\n",
      " DDoS-UDP_Fragmentation       1.00      0.99      1.00       470\n",
      "           DNS_Spoofing       0.73      0.68      0.70       300\n",
      "   DictionaryBruteForce       0.40      0.60      0.48        10\n",
      "         DoS-HTTP_Flood       0.96      1.00      0.98       130\n",
      "          DoS-SYN_Flood       1.00      1.00      1.00      3065\n",
      "          DoS-TCP_Flood       1.00      1.00      1.00      4044\n",
      "          DoS-UDP_Flood       1.00      1.00      1.00      5085\n",
      "       MITM-ArpSpoofing       0.75      0.82      0.78       463\n",
      "     Mirai-greeth_flood       1.00      1.00      1.00      1553\n",
      "      Mirai-greip_flood       1.00      1.00      1.00      1165\n",
      "         Mirai-udpplain       1.00      1.00      1.00      1405\n",
      "    Recon-HostDiscovery       0.77      0.77      0.77       216\n",
      "           Recon-OSScan       0.52      0.51      0.52       142\n",
      "        Recon-PingSweep       0.33      1.00      0.50         2\n",
      "         Recon-PortScan       0.65      0.65      0.65       128\n",
      "           SqlInjection       0.62      0.56      0.59         9\n",
      "       Uploading_Attack       0.50      0.33      0.40         3\n",
      "      VulnerabilityScan       0.97      0.94      0.95        62\n",
      "                    XSS       0.20      0.50      0.29         4\n",
      "\n",
      "               accuracy                           0.99     71606\n",
      "              macro avg       0.82      0.83      0.82     71606\n",
      "           weighted avg       0.99      0.99      0.99     71606\n",
      "\n"
     ]
    }
   ],
   "source": [
    "from sklearn.metrics import classification_report, confusion_matrix, accuracy_score\n",
    "dt_pred = dtc.predict(testObs)\n",
    "dt_accuracy = accuracy_score(testCls, dt_pred)\n",
    "dt_report = classification_report(testCls, dt_pred)\n",
    "dt_confusion_matrix = confusion_matrix(testCls, dt_pred)\n",
    "\n",
    "print(\"Decision Tree Accuracy: \", dt_accuracy)\n",
    "print(\"Decision Tree Report: \\n\", dt_report)"
   ]
  },
  {
   "cell_type": "markdown",
   "metadata": {},
   "source": [
    "#### K-Nearest Neighbors (KNN) Classifier"
   ]
  },
  {
   "cell_type": "code",
   "execution_count": 13,
   "metadata": {},
   "outputs": [
    {
     "name": "stdout",
     "output_type": "stream",
     "text": [
      "KNN Accuracy:  0.9383990168421641\n",
      "KNN Report: \n",
      "                          precision    recall  f1-score   support\n",
      "\n",
      "       Backdoor_Malware       1.00      0.00      0.00         8\n",
      "          BenignTraffic       0.71      0.94      0.81      1680\n",
      "       BrowserHijacking       1.00      0.00      0.00        14\n",
      "       CommandInjection       1.00      0.00      0.00         8\n",
      " DDoS-ACK_Fragmentation       0.98      0.98      0.98       449\n",
      "        DDoS-HTTP_Flood       0.77      0.57      0.65        58\n",
      "        DDoS-ICMP_Flood       1.00      1.00      1.00     10856\n",
      "DDoS-ICMP_Fragmentation       0.98      0.98      0.98       723\n",
      "      DDoS-PSHACK_Flood       1.00      1.00      1.00      6401\n",
      "       DDoS-RSTFINFlood       1.00      1.00      1.00      6190\n",
      "         DDoS-SYN_Flood       0.91      0.96      0.93      6294\n",
      "         DDoS-SlowLoris       0.49      0.57      0.52        30\n",
      "DDoS-SynonymousIP_Flood       0.96      0.95      0.95      5453\n",
      "         DDoS-TCP_Flood       0.94      0.97      0.95      6955\n",
      "         DDoS-UDP_Flood       0.91      0.95      0.93      8231\n",
      " DDoS-UDP_Fragmentation       0.99      0.99      0.99       470\n",
      "           DNS_Spoofing       0.58      0.28      0.38       300\n",
      "   DictionaryBruteForce       0.50      0.10      0.17        10\n",
      "         DoS-HTTP_Flood       0.81      0.64      0.71       130\n",
      "          DoS-SYN_Flood       0.89      0.81      0.85      3065\n",
      "          DoS-TCP_Flood       0.94      0.90      0.92      4044\n",
      "          DoS-UDP_Flood       0.91      0.84      0.87      5085\n",
      "       MITM-ArpSpoofing       0.70      0.52      0.59       463\n",
      "     Mirai-greeth_flood       0.89      0.92      0.90      1553\n",
      "      Mirai-greip_flood       0.89      0.85      0.87      1165\n",
      "         Mirai-udpplain       0.99      1.00      1.00      1405\n",
      "    Recon-HostDiscovery       0.63      0.46      0.53       216\n",
      "           Recon-OSScan       0.29      0.11      0.16       142\n",
      "        Recon-PingSweep       1.00      0.00      0.00         2\n",
      "         Recon-PortScan       0.45      0.22      0.29       128\n",
      "           SqlInjection       0.33      0.11      0.17         9\n",
      "       Uploading_Attack       1.00      0.00      0.00         3\n",
      "      VulnerabilityScan       0.61      0.87      0.72        62\n",
      "                    XSS       0.00      0.00      1.00         4\n",
      "\n",
      "               accuracy                           0.94     71606\n",
      "              macro avg       0.80      0.60      0.64     71606\n",
      "           weighted avg       0.94      0.94      0.94     71606\n",
      "\n"
     ]
    }
   ],
   "source": [
    "from sklearn.metrics import classification_report, confusion_matrix, accuracy_score\n",
    "knn_pred = knn.predict(testObs)\n",
    "knn_accuracy = accuracy_score(testCls, knn_pred)\n",
    "knn_report = classification_report(testCls, knn_pred, zero_division=1)\n",
    "knn_confusion_matrix = confusion_matrix(testCls, knn_pred)\n",
    "\n",
    "print(\"KNN Accuracy: \", knn_accuracy)\n",
    "print(\"KNN Report: \\n\", knn_report)"
   ]
  },
  {
   "cell_type": "markdown",
   "metadata": {},
   "source": [
    "#### SVM Classifier"
   ]
  },
  {
   "cell_type": "code",
   "execution_count": 14,
   "metadata": {},
   "outputs": [
    {
     "name": "stdout",
     "output_type": "stream",
     "text": [
      "SVM Accuracy:  0.7908834455213251\n",
      "SVM Report: \n",
      "                          precision    recall  f1-score   support\n",
      "\n",
      "       Backdoor_Malware       1.00      0.00      0.00         8\n",
      "          BenignTraffic       0.67      0.98      0.79      1680\n",
      "       BrowserHijacking       1.00      0.00      0.00        14\n",
      "       CommandInjection       1.00      0.00      0.00         8\n",
      " DDoS-ACK_Fragmentation       0.97      0.99      0.98       449\n",
      "        DDoS-HTTP_Flood       0.67      0.50      0.57        58\n",
      "        DDoS-ICMP_Flood       1.00      1.00      1.00     10856\n",
      "DDoS-ICMP_Fragmentation       1.00      0.97      0.99       723\n",
      "      DDoS-PSHACK_Flood       1.00      1.00      1.00      6401\n",
      "       DDoS-RSTFINFlood       1.00      1.00      1.00      6190\n",
      "         DDoS-SYN_Flood       0.65      0.97      0.78      6294\n",
      "         DDoS-SlowLoris       0.20      0.43      0.27        30\n",
      "DDoS-SynonymousIP_Flood       0.73      0.66      0.70      5453\n",
      "         DDoS-TCP_Flood       0.64      0.97      0.77      6955\n",
      "         DDoS-UDP_Flood       0.68      0.99      0.81      8231\n",
      " DDoS-UDP_Fragmentation       0.93      0.99      0.96       470\n",
      "           DNS_Spoofing       0.71      0.05      0.09       300\n",
      "   DictionaryBruteForce       1.00      0.10      0.18        10\n",
      "         DoS-HTTP_Flood       0.74      0.71      0.72       130\n",
      "          DoS-SYN_Flood       0.58      0.10      0.17      3065\n",
      "          DoS-TCP_Flood       0.58      0.07      0.13      4044\n",
      "          DoS-UDP_Flood       0.94      0.25      0.39      5085\n",
      "       MITM-ArpSpoofing       0.73      0.45      0.56       463\n",
      "     Mirai-greeth_flood       0.57      0.99      0.73      1553\n",
      "      Mirai-greip_flood       0.63      0.02      0.03      1165\n",
      "         Mirai-udpplain       1.00      1.00      1.00      1405\n",
      "    Recon-HostDiscovery       0.57      0.44      0.49       216\n",
      "           Recon-OSScan       0.33      0.01      0.03       142\n",
      "        Recon-PingSweep       1.00      0.00      0.00         2\n",
      "         Recon-PortScan       0.48      0.10      0.17       128\n",
      "           SqlInjection       1.00      0.00      0.00         9\n",
      "       Uploading_Attack       1.00      0.00      0.00         3\n",
      "      VulnerabilityScan       0.58      0.63      0.60        62\n",
      "                    XSS       1.00      0.00      0.00         4\n",
      "\n",
      "               accuracy                           0.79     71606\n",
      "              macro avg       0.78      0.48      0.47     71606\n",
      "           weighted avg       0.80      0.79      0.74     71606\n",
      "\n"
     ]
    }
   ],
   "source": [
    "from sklearn.metrics import classification_report, confusion_matrix, accuracy_score\n",
    "svm_pred = svm_clf.predict(testObs)\n",
    "svm_accuracy = accuracy_score(testCls, svm_pred)\n",
    "svm_report = classification_report(testCls, svm_pred, zero_division=1)\n",
    "svm_confusion_matrix = confusion_matrix(testCls, svm_pred)\n",
    "\n",
    "print(\"SVM Accuracy: \", svm_accuracy)\n",
    "print(\"SVM Report: \\n\", svm_report)"
   ]
  },
  {
   "cell_type": "code",
   "execution_count": 22,
   "metadata": {},
   "outputs": [
    {
     "data": {
      "image/png": "[encoded data removed]",
      "text/plain": [
       "<Figure size 1200x400 with 3 Axes>"
      ]
     },
     "metadata": {},
     "output_type": "display_data"
    }
   ],
   "source": [
    "import seaborn as sns\n",
    "import matplotlib.pyplot as plt\n",
    "\n",
    "# Plot confusion matrix heatmaps\n",
    "plt.figure(figsize=(12, 4))\n",
    "\n",
    "plt.subplot(131)\n",
    "sns.heatmap(dt_confusion_matrix, fmt='d', cmap='Blues', cbar=False)\n",
    "plt.title(\"Decision Tree Confusion Matrix\")\n",
    "\n",
    "plt.subplot(132)\n",
    "sns.heatmap(knn_confusion_matrix, fmt='d', cmap=\"Blues\", cbar=False)\n",
    "plt.title(\"KNN Confusion Matrix\")\n",
    "\n",
    "plt.subplot(133)\n",
    "sns.heatmap(svm_confusion_matrix, fmt='d', cmap='Blues', cbar=False)\n",
    "plt.title(\"SVM Confusion Matrix\")\n",
    "\n",
    "plt.tight_layout()\n",
    "plt.show()\n"
   ]
  },
  {
   "cell_type": "markdown",
   "metadata": {},
   "source": [
    "## Model Evaluation and Comparison Report\n",
    "\n",
    "In this report, we present the evaluation results and comparisons of three machine learning classifiers: Decision Tree, K-Nearest Neighbors (KNN), and Support Vector Machine (SVM). These classifiers were evaluated on their ability to classify network traffic instances as either benign or malicious in an IoT environment.\n",
    "\n",
    "### Model Performance Metrics\n",
    "\n",
    "We assessed the classifiers using the following performance metrics:\n",
    "\n",
    "- **Accuracy**: Measures the overall correctness of the classifier's predictions.\n",
    "- **Precision**: Measures the proportion of true positive predictions out of all positive predictions.\n",
    "- **Recall**: Measures the proportion of true positive predictions out of all actual positive instances.\n",
    "- **F1-Score**: The harmonic mean of precision and recall, providing a balance between the two.\n",
    "\n",
    "### Results Summary\n",
    "\n",
    "#### Decision Tree Classifier:\n",
    "\n",
    "- **Accuracy**: 99.17%\n",
    "- **Precision**: 0.99\n",
    "- **Recall**: 0.99\n",
    "- **F1-Score**: 0.99\n",
    "\n",
    "The Decision Tree classifier achieved exceptional performance across all metrics. It demonstrated high accuracy, precision, recall, and F1-Score, indicating its effectiveness in classifying both benign and malicious network traffic instances.\n",
    "\n",
    "#### K-Nearest Neighbors (KNN):\n",
    "\n",
    "- **Accuracy**: 93.84%\n",
    "- **Precision**: 0.94\n",
    "- **Recall**: 0.94\n",
    "- **F1-Score**: 0.94\n",
    "\n",
    "KNN performed well, with a respectable accuracy, precision, recall, and F1-Score. However, its recall, while good, is slightly lower compared to the Decision Tree, suggesting that it may miss some actual attacks.\n",
    "\n",
    "#### Support Vector Machine (SVM):\n",
    "\n",
    "- **Accuracy**: 79.09%\n",
    "- **Precision**: 0.80\n",
    "- **Recall**: 0.79\n",
    "- **F1-Score**: 0.74\n",
    "\n",
    "SVM exhibited the lowest performance among the three classifiers. It achieved the lowest accuracy, precision, recall, and F1-Score, indicating that it may struggle in effectively classifying malicious instances.\n",
    "\n",
    "### Comparison and Recommendations\n",
    "\n",
    "- The Decision Tree classifier outperformed both KNN and SVM, achieving the highest accuracy, precision, recall, and F1-Score. It appears to be the most effective choice for classifying network traffic in this IoT environment.\n",
    "\n",
    "- KNN performed reasonably well but had a slightly lower recall compared to the Decision Tree. It may miss some malicious instances but remains a viable option depending on specific requirements.\n",
    "\n",
    "- SVM demonstrated the lowest performance, with the lowest accuracy, precision, recall, and F1-Score. It may not be the best choice for this dataset.\n",
    "\n",
    "**Recommendation:** Based on the evaluation results, we recommend using the Decision Tree classifier as the preferred model for classifying network traffic in this IoT environment, given its exceptional performance across all metrics. However, further hyperparameter tuning and feature engineering may be explored to further improve model performance.\n",
    "\n",
    "It's essential to consider the specific requirements and objectives of your application when selecting a classifier, as the choice may vary based on the desired trade-offs between accuracy, precision, and recall.\n"
   ]
  },
  {
   "cell_type": "markdown",
   "metadata": {},
   "source": []
  }
 ],
 "metadata": {
  "kernelspec": {
   "display_name": "Python 3",
   "language": "python",
   "name": "python3"
  },
  "language_info": {
   "codemirror_mode": {
    "name": "ipython",
    "version": 3
   },
   "file_extension": ".py",
   "mimetype": "text/x-python",
   "name": "python",
   "nbconvert_exporter": "python",
   "pygments_lexer": "ipython3",
   "version": "3.10.6"
  },
  "orig_nbformat": 4
 },
 "nbformat": 4,
 "nbformat_minor": 2
}
