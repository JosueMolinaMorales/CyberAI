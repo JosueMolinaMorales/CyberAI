{
 "cells": [
  {
   "cell_type": "code",
   "execution_count": 21,
   "metadata": {},
   "outputs": [],
   "source": [
    "from sklearn.cluster import KMeans\n",
    "\n",
    "import numpy as np\n",
    "\n",
    "X = np.array([\n",
    "    [2, 10],\n",
    "    [2, 5],\n",
    "    [8, 4],\n",
    "    [5, 8],\n",
    "    [7, 5],\n",
    "    [6, 4],\n",
    "    [1, 2],\n",
    "    [4, 9]\n",
    "])\n",
    "\n",
    "kmeans = KMeans(n_clusters=3, random_state=0, init=np.array([[2,10], [5,8], [1,2]]), max_iter=300, n_init=1).fit(X)"
   ]
  },
  {
   "cell_type": "code",
   "execution_count": 22,
   "metadata": {},
   "outputs": [
    {
     "data": {
      "text/plain": [
       "array([0, 2, 1, 0, 1, 1, 2, 0])"
      ]
     },
     "execution_count": 22,
     "metadata": {},
     "output_type": "execute_result"
    }
   ],
   "source": [
    "kmeans.labels_"
   ]
  },
  {
   "cell_type": "code",
   "execution_count": 23,
   "metadata": {},
   "outputs": [
    {
     "data": {
      "text/plain": [
       "array([[3.66666667, 9.        ],\n",
       "       [7.        , 4.33333333],\n",
       "       [1.5       , 3.5       ]])"
      ]
     },
     "execution_count": 23,
     "metadata": {},
     "output_type": "execute_result"
    }
   ],
   "source": [
    "kmeans.cluster_centers_"
   ]
  },
  {
   "cell_type": "code",
   "execution_count": 25,
   "metadata": {},
   "outputs": [
    {
     "data": {
      "text/plain": [
       "4"
      ]
     },
     "execution_count": 25,
     "metadata": {},
     "output_type": "execute_result"
    }
   ],
   "source": [
    "max_iter = kmeans.n_iter_\n",
    "max_iter"
   ]
  },
  {
   "cell_type": "markdown",
   "metadata": {},
   "source": [
    "### View Each Cluster After Every Iteration"
   ]
  },
  {
   "cell_type": "code",
   "execution_count": 28,
   "metadata": {},
   "outputs": [
    {
     "name": "stdout",
     "output_type": "stream",
     "text": [
      "============== Iteration 1 ==============\n",
      "Cluster 1: [ 2. 10.]\n",
      "Cluster 2: [6. 6.]\n",
      "Cluster 3: [1.5 3.5]\n",
      "============== Iteration 2 ==============\n",
      "Cluster 1: [3.  9.5]\n",
      "Cluster 2: [6.5  5.25]\n",
      "Cluster 3: [1.5 3.5]\n",
      "============== Iteration 3 ==============\n",
      "Cluster 1: [3.66666667 9.        ]\n",
      "Cluster 2: [7.         4.33333333]\n",
      "Cluster 3: [1.5 3.5]\n",
      "============== Iteration 4 ==============\n",
      "Cluster 1: [3.66666667 9.        ]\n",
      "Cluster 2: [7.         4.33333333]\n",
      "Cluster 3: [1.5 3.5]\n"
     ]
    }
   ],
   "source": [
    "for i in range(1, max_iter+1):\n",
    "    kmeans = KMeans(n_clusters=3, random_state=0, init=np.array([[2,10], [5,8], [1,2]]), max_iter=i, n_init=1).fit(X)\n",
    "    print(\"============== Iteration {} ==============\".format(i))\n",
    "    centers = kmeans.cluster_centers_\n",
    "    for j in range(0, len(centers)):\n",
    "        print(\"Cluster {}: {}\".format(j+1, centers[j]))"
   ]
  },
  {
   "cell_type": "markdown",
   "metadata": {},
   "source": [
    "### View Centers After Changing Initial Centers"
   ]
  },
  {
   "cell_type": "code",
   "execution_count": 18,
   "metadata": {},
   "outputs": [
    {
     "name": "stderr",
     "output_type": "stream",
     "text": [
      "c:\\Users\\molin\\AppData\\Local\\Programs\\Python\\Python310\\lib\\site-packages\\sklearn\\cluster\\_kmeans.py:1416: FutureWarning: The default value of `n_init` will change from 10 to 'auto' in 1.4. Set the value of `n_init` explicitly to suppress the warning\n",
      "  super()._check_params_vs_input(X, default_n_init=10)\n",
      "c:\\Users\\molin\\AppData\\Local\\Programs\\Python\\Python310\\lib\\site-packages\\sklearn\\cluster\\_kmeans.py:1416: RuntimeWarning: Explicit initial center position passed: performing only one init in KMeans instead of n_init=10.\n",
      "  super()._check_params_vs_input(X, default_n_init=10)\n"
     ]
    }
   ],
   "source": [
    "kmeans = KMeans(n_clusters=3, random_state=0, init=np.array([[8, 4], [7,5], [6, 4]])).fit(X)"
   ]
  },
  {
   "cell_type": "code",
   "execution_count": 19,
   "metadata": {},
   "outputs": [
    {
     "data": {
      "text/plain": [
       "array([[7.        , 4.33333333],\n",
       "       [3.66666667, 9.        ],\n",
       "       [1.5       , 3.5       ]])"
      ]
     },
     "execution_count": 19,
     "metadata": {},
     "output_type": "execute_result"
    }
   ],
   "source": [
    "kmeans.cluster_centers_"
   ]
  }
 ],
 "metadata": {
  "kernelspec": {
   "display_name": "Python 3",
   "language": "python",
   "name": "python3"
  },
  "language_info": {
   "codemirror_mode": {
    "name": "ipython",
    "version": 3
   },
   "file_extension": ".py",
   "mimetype": "text/x-python",
   "name": "python",
   "nbconvert_exporter": "python",
   "pygments_lexer": "ipython3",
   "version": "3.10.6"
  }
 },
 "nbformat": 4,
 "nbformat_minor": 2
}
